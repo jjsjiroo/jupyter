{
 "cells": [
  {
   "cell_type": "markdown",
   "metadata": {},
   "source": [
    "# 위키피디아 데이터에서 문서 찾기"
   ]
  },
  {
   "cell_type": "markdown",
   "metadata": {},
   "source": [
    "## Import Graphlab\n",
    "\n",
    "graphlab을 import합니다. 에러가 나는 경우 'install graphlab' 노트북을 열어서 설치해야 합니다."
   ]
  },
  {
   "cell_type": "code",
   "execution_count": null,
   "metadata": {},
   "outputs": [],
   "source": []
  },
  {
   "cell_type": "markdown",
   "metadata": {},
   "source": [
    "## 데이터 화일 업로드하기\n",
    "\n",
    "먼저 people_wiki.gl.zip 화일을 업로드합니다. Destination Folder에 /library/data 폴더를 지정합니다."
   ]
  },
  {
   "cell_type": "markdown",
   "metadata": {},
   "source": [
    "ls 명령을 이용해서 data 폴더 안에 people_wiki.gl.zip 화일이 제대로 업로드되었는지 확인합시다."
   ]
  },
  {
   "cell_type": "code",
   "execution_count": null,
   "metadata": {},
   "outputs": [],
   "source": [
    "ls ../data"
   ]
  },
  {
   "cell_type": "markdown",
   "metadata": {},
   "source": [
    "이제 unzip 명령을 이용해서 압축화일을 해제합시다."
   ]
  },
  {
   "cell_type": "code",
   "execution_count": null,
   "metadata": {},
   "outputs": [],
   "source": [
    "!unzip -o ../data/people_wiki.gl.zip -d ../data"
   ]
  },
  {
   "cell_type": "markdown",
   "metadata": {},
   "source": [
    "# 위키피디아에서 인물에 대한 텍스트 데이터를 로드합니다.\n",
    "\n",
    "위키피디아의 인물에 대한 텍스트 데이터를 읽어 들입니다.\n",
    "\n",
    "SFrame 데이터를 읽어 와서 **people**이라는 변수에 저장합니다.\n",
    "**'../data/people_wiki.gl/'**이라는 폴더를 지정해야 합니다.\n",
    "\n",
    "    graphlab.SFrame(폴더위치)"
   ]
  },
  {
   "cell_type": "code",
   "execution_count": null,
   "metadata": {},
   "outputs": [],
   "source": []
  },
  {
   "cell_type": "markdown",
   "metadata": {},
   "source": [
    "head 메소드로 people에 어떤 데이터가 들어 있는지 확인해 봅시다."
   ]
  },
  {
   "cell_type": "code",
   "execution_count": null,
   "metadata": {},
   "outputs": [],
   "source": []
  },
  {
   "cell_type": "markdown",
   "metadata": {},
   "source": [
    "위키피디아 문서로 가는 링크, 인물의 이름, 문서의 텍스트 등이 들어 있습니다."
   ]
  },
  {
   "cell_type": "markdown",
   "metadata": {},
   "source": [
    "총 몇명의 데이터인지 확인해 봅시다."
   ]
  },
  {
   "cell_type": "code",
   "execution_count": null,
   "metadata": {},
   "outputs": [],
   "source": []
  },
  {
   "cell_type": "markdown",
   "metadata": {},
   "source": [
    "59,701명이 맞나요?"
   ]
  },
  {
   "cell_type": "markdown",
   "metadata": {},
   "source": [
    "# 데이터셋을 살펴보고 어떤 텍스트가 있는지 확인해 봅시다.\n",
    "\n",
    "## Obama 대통령의 데이터를 확인해 봅시다.\n",
    "\n",
    "전체 인물 데이터에서 Obama 대통령에 해당하는 데이터를 찾아서 **obama**에 저장합시다. 이름에서 'Barack Obama'를 찾으면 됩니다."
   ]
  },
  {
   "cell_type": "code",
   "execution_count": null,
   "metadata": {},
   "outputs": [],
   "source": []
  },
  {
   "cell_type": "markdown",
   "metadata": {},
   "source": [
    "obama의 데이터를 확인해 봅시다."
   ]
  },
  {
   "cell_type": "code",
   "execution_count": null,
   "metadata": {},
   "outputs": [],
   "source": []
  },
  {
   "cell_type": "markdown",
   "metadata": {},
   "source": [
    "obama의 **'text'** 컬럼의 데이터를 확인해 봅시다."
   ]
  },
  {
   "cell_type": "code",
   "execution_count": null,
   "metadata": {},
   "outputs": [],
   "source": []
  },
  {
   "cell_type": "markdown",
   "metadata": {},
   "source": [
    "## **대배우님**, George Clooney의 데이터를 살펴 봅시다.\n",
    "\n",
    "'George Clooney'의 데이터를 찾아서 **clooney**에 저장합시다."
   ]
  },
  {
   "cell_type": "code",
   "execution_count": null,
   "metadata": {},
   "outputs": [],
   "source": []
  },
  {
   "cell_type": "markdown",
   "metadata": {},
   "source": [
    "text 컬럼의 데이터를 확인해 봅시다."
   ]
  },
  {
   "cell_type": "code",
   "execution_count": null,
   "metadata": {},
   "outputs": [],
   "source": []
  },
  {
   "cell_type": "markdown",
   "metadata": {},
   "source": [
    "# Obama 문서의 단어 카운트를 만들어 봅시다.\n",
    "\n",
    "\n",
    "이제 아래 메소드를 사용해서 Obama 문서의 단어 개수 벡터를 만든 다음, **word_count**라는 컬럼으로 obama에 저장해 봅시다.\n",
    "\n",
    "    graphlab.text_analytics.count_words(SArray)\n",
    "\n",
    "주의: 이 메소드는 SFrame이 아니라 SArray를 입력으로 받습니다."
   ]
  },
  {
   "cell_type": "code",
   "execution_count": null,
   "metadata": {},
   "outputs": [],
   "source": []
  },
  {
   "cell_type": "markdown",
   "metadata": {},
   "source": [
    "**'word_count'** 컬럼을 출력해서 내용을 살펴 봅시다."
   ]
  },
  {
   "cell_type": "code",
   "execution_count": null,
   "metadata": {},
   "outputs": [],
   "source": []
  },
  {
   "cell_type": "markdown",
   "metadata": {},
   "source": [
    "관련 문서의 텍스트를 분석하여 등장한 단어를 키(key)로, 단어가 나타난 개수를 값(value)으로 하는 dictionary 형태임을 알 수 있습니다."
   ]
  },
  {
   "cell_type": "markdown",
   "metadata": {},
   "source": [
    "## Obama 문서의 단어 카운트를 소팅하기"
   ]
  },
  {
   "cell_type": "markdown",
   "metadata": {},
   "source": [
    "### 단어 카운트 dictionary를 테이블로 변환하기\n",
    "word_count 컬럼에 저장되어 있는 dictionary를 stack 메소드를 이용해서 단어를 'word' 컬럼에, 횟수를 'count' 컬럼에 넣습니다. stack 메소드는 주어진 SFrame에 새로운 컬럼들을 추가해서 **각 단어별로** 반환합니다.\n",
    "\n",
    "    SFrame.stack(컬럼이름, new_column_name=새로운컬럼이름리스트)\n",
    "\n",
    "주의: **obama 문서의 'word_count' 컬럼만으로 만들어진 SFrame**을 이용하세요."
   ]
  },
  {
   "cell_type": "code",
   "execution_count": null,
   "metadata": {},
   "outputs": [],
   "source": []
  },
  {
   "cell_type": "markdown",
   "metadata": {},
   "source": [
    "이 결과를 **obama_word_count_table**에 저장하세요."
   ]
  },
  {
   "cell_type": "code",
   "execution_count": null,
   "metadata": {},
   "outputs": [],
   "source": []
  },
  {
   "cell_type": "markdown",
   "metadata": {},
   "source": [
    "### 맨위에 가장 많이 나오는 단어가 나오도록 단어 카운트 소팅하기\n",
    "\n",
    "먼저 head 메소드를 이용해서 obama_word_count_table의 내용을 확인합시다."
   ]
  },
  {
   "cell_type": "code",
   "execution_count": null,
   "metadata": {},
   "outputs": [],
   "source": []
  },
  {
   "cell_type": "markdown",
   "metadata": {},
   "source": [
    "이제 'count' 컬럼의 값에 따라 내림차순으로 소팅해 주세요.\n",
    "\n",
    "    SFrame.sort(컬럼이름, ascending=True또는False)\n",
    "    "
   ]
  },
  {
   "cell_type": "code",
   "execution_count": null,
   "metadata": {},
   "outputs": [],
   "source": []
  },
  {
   "cell_type": "markdown",
   "metadata": {},
   "source": [
    "많이 등장하는 단어들에는 정보로서의 가치가 없는 단어들 - \"the\", \"in\", \"and\" 등 - 이 다수 포함되어 있습니다."
   ]
  },
  {
   "cell_type": "markdown",
   "metadata": {},
   "source": [
    "# Corpus의 TF-IDF 계산하기 \n",
    "\n",
    "정보로서 가치가 있는 단어들에 더 많은 weight를 주기 위해 TF-IDF 점수를 이용하고자 합니다."
   ]
  },
  {
   "cell_type": "markdown",
   "metadata": {},
   "source": [
    "개별 인물이 아닌, 전체 corpus에 대해서 적용해 봅시다.\n",
    "\n",
    "아래 메소드를 이용해서 people 문서의 텍스트에 대한 단어 개수 벡터를 만든 다음, **word_count**라는 컬럼으로 people에 저장해 봅시다.\n",
    "\n",
    "    graphlab.text_analytics.count_words(SArray)\n",
    "\n",
    "주의: 이 메소드는 SFrame이 아니라 SArray를 입력으로 받습니다."
   ]
  },
  {
   "cell_type": "code",
   "execution_count": null,
   "metadata": {},
   "outputs": [],
   "source": []
  },
  {
   "cell_type": "markdown",
   "metadata": {},
   "source": [
    "head 메소드를 이용해서 내용을 확인합시다."
   ]
  },
  {
   "cell_type": "code",
   "execution_count": null,
   "metadata": {},
   "outputs": [],
   "source": []
  },
  {
   "cell_type": "markdown",
   "metadata": {},
   "source": [
    "아래 메소드에 **word_count**를 인자로 넣어서 TF_IDF를 구한 다음, **tdidf**라는 컬럼으로 people에 저장합시다.\n",
    "    \n",
    "    graphlab.text_analytics.tf_idf(SArray)\n",
    "    \n",
    "주의: 이 메소드는 SFrame이 아니라 SArray를 입력으로 받습니다."
   ]
  },
  {
   "cell_type": "code",
   "execution_count": null,
   "metadata": {},
   "outputs": [],
   "source": []
  },
  {
   "cell_type": "markdown",
   "metadata": {},
   "source": [
    "마찬가지로 head로 내용을 확인합시다."
   ]
  },
  {
   "cell_type": "code",
   "execution_count": null,
   "metadata": {},
   "outputs": [],
   "source": []
  },
  {
   "cell_type": "markdown",
   "metadata": {},
   "source": [
    "## Obama 문서의 TF-IDF 살펴보기"
   ]
  },
  {
   "cell_type": "markdown",
   "metadata": {},
   "source": [
    "people에서 Obama 문서를 골라내서 **obama**라는 변수에 저장합시다. 'Barack Obama'를 사용하세요."
   ]
  },
  {
   "cell_type": "code",
   "execution_count": null,
   "metadata": {},
   "outputs": [],
   "source": []
  },
  {
   "cell_type": "markdown",
   "metadata": {},
   "source": [
    "obama를 출력해 봅시다."
   ]
  },
  {
   "cell_type": "code",
   "execution_count": null,
   "metadata": {},
   "outputs": [],
   "source": []
  },
  {
   "cell_type": "markdown",
   "metadata": {},
   "source": [
    "### TF-IDF dictionary를 테이블로 변환하기\n",
    "'tfidf'컬럼에 저장되어 있는 dictionary를 stack 메소드를 이용해서 단어를 'word' 컬럼에, tf-idf점수를 'tfidf' 컬럼에 넣어 봅시다. stack 메소드는 주어진 SFrame에 새로운 컬럼들을 추가해서 **각 단어별로** 반환합니다.\n",
    "\n",
    "    SFrame.stack(컬럼이름, new_column_name=새로운컬럼이름리스트)\n",
    "\n",
    "주의: **obama 문서의 'tfidf' 컬럼만으로 만들어진 SFrame**을 이용하세요."
   ]
  },
  {
   "cell_type": "code",
   "execution_count": null,
   "metadata": {},
   "outputs": [],
   "source": []
  },
  {
   "cell_type": "markdown",
   "metadata": {},
   "source": [
    "TF-IDF 점수가 높은 단어들이 훨씬 더 정보로서 가치가 높습니다."
   ]
  },
  {
   "cell_type": "markdown",
   "metadata": {},
   "source": [
    "# 유명인사들 간의 거리를 직접 계산해 보기\n",
    "\n",
    "몇몇 유명인사들의 문서들 간의 거리를 직접 계산해 봅시다."
   ]
  },
  {
   "cell_type": "markdown",
   "metadata": {},
   "source": [
    "먼저 'Bill Clinton'을 찾아서 **clinton**에 저장합시다."
   ]
  },
  {
   "cell_type": "code",
   "execution_count": null,
   "metadata": {},
   "outputs": [],
   "source": []
  },
  {
   "cell_type": "markdown",
   "metadata": {},
   "source": [
    "먼저 'David Beckham'을 찾아서 **beckham**에 저장합시다."
   ]
  },
  {
   "cell_type": "code",
   "execution_count": null,
   "metadata": {},
   "outputs": [],
   "source": []
  },
  {
   "cell_type": "markdown",
   "metadata": {},
   "source": [
    "## Obama가 Clinton에 가까울까요? 아니면 Beckham에 더 가까을까요?\n",
    "\n",
    "cosine 거리를 사용하겠습니다. 이는 아래식으로 표현됩니다.\n",
    "\n",
    "    distance = 1 - cosine_similarity\n",
    "\n",
    "Obama 대통령의 문서가 유명한 축구선수인 David Beckham의 문서보다 Clinton 대통령의 문서에 가까운지 알아 보겠습니다.\n",
    "아래 메소드를 사용합니다.\n",
    "\n",
    "    graphlab.distances.cosine(문서1의tfidf, 문서2의tfidf)\n",
    "    \n",
    "주의: 이 메소드는 SArray가 아닌 dictionary 또는 list을 인자로 받습니다."
   ]
  },
  {
   "cell_type": "markdown",
   "metadata": {},
   "source": [
    "먼저 obama와 clinton 간의 거리를 확인하세요."
   ]
  },
  {
   "cell_type": "code",
   "execution_count": null,
   "metadata": {},
   "outputs": [],
   "source": []
  },
  {
   "cell_type": "markdown",
   "metadata": {},
   "source": [
    "그 다음 obama와 beckham 간의 거리를 확인하세요."
   ]
  },
  {
   "cell_type": "code",
   "execution_count": null,
   "metadata": {},
   "outputs": [],
   "source": []
  },
  {
   "cell_type": "markdown",
   "metadata": {},
   "source": [
    "누가 더 obama에 가깝나요?"
   ]
  },
  {
   "cell_type": "markdown",
   "metadata": {},
   "source": [
    "# 문서 조회를 위해 최근접 이웃 (nearest neighbor) 모델 만들기\n",
    "\n",
    "이제 nearest neighbor 모델을 만들어서 문서 조회에 이용해 봅시다."
   ]
  },
  {
   "cell_type": "markdown",
   "metadata": {},
   "source": [
    "아래 메소드를 이용해서 nearest neighboer 모델을 만들고 **knn_model**에 저장하세요.\n",
    "\n",
    "    graphlab.nearest_neighbors.create(학습데이터, features=사용하고자하는컬럼의리스트, label=각행의구분자역할을할컬럼명)\n",
    "    \n",
    "여기서는 피쳐로 'tfidf'만을 사용하고 label로는 이름을 사용하겠습니다."
   ]
  },
  {
   "cell_type": "code",
   "execution_count": null,
   "metadata": {},
   "outputs": [],
   "source": []
  },
  {
   "cell_type": "markdown",
   "metadata": {},
   "source": [
    "# 문서 조회에 nearest-neighbors 모델을 이용하기"
   ]
  },
  {
   "cell_type": "markdown",
   "metadata": {},
   "source": [
    "## 누가 Obama에 가장 가까운가?"
   ]
  },
  {
   "cell_type": "markdown",
   "metadata": {},
   "source": [
    "아래 메소드를 이용해서 Obama에 가까운 인물들을 찾아 보세요.\n",
    "\n",
    "    model.query(SFrame)"
   ]
  },
  {
   "cell_type": "code",
   "execution_count": null,
   "metadata": {},
   "outputs": [],
   "source": []
  },
  {
   "cell_type": "markdown",
   "metadata": {},
   "source": [
    "Obama 대통령의 문서는 그의 부통령이었던 Biden과 가장 가깝고 그 다음으로는 Liberman과 같은 다른 정치인들이 등장하는 것을 확인할 수 있습니다."
   ]
  },
  {
   "cell_type": "markdown",
   "metadata": {},
   "source": [
    "## 다른 인물들로 문서 조회해 보기"
   ]
  },
  {
   "cell_type": "markdown",
   "metadata": {},
   "source": [
    "'Taylor Swift'를 찾아서 **swift**에 저장해 봅시다."
   ]
  },
  {
   "cell_type": "code",
   "execution_count": null,
   "metadata": {},
   "outputs": [],
   "source": []
  },
  {
   "cell_type": "markdown",
   "metadata": {},
   "source": [
    "Swift와 가까운 인물들을 찾아 봅시다.\n",
    "\n",
    "    model.query(SFrame)"
   ]
  },
  {
   "cell_type": "code",
   "execution_count": null,
   "metadata": {},
   "outputs": [],
   "source": []
  },
  {
   "cell_type": "markdown",
   "metadata": {},
   "source": [
    "이번에는 'Angelina Jolie'를 찾아서 **jolie**에 저장합시다. "
   ]
  },
  {
   "cell_type": "code",
   "execution_count": null,
   "metadata": {},
   "outputs": [],
   "source": []
  },
  {
   "cell_type": "markdown",
   "metadata": {},
   "source": [
    "jolie와 가까운 인물들을 찾아 봅시다."
   ]
  },
  {
   "cell_type": "code",
   "execution_count": null,
   "metadata": {},
   "outputs": [],
   "source": []
  },
  {
   "cell_type": "markdown",
   "metadata": {},
   "source": [
    "'Arnold Schwarzenegger'는 어떨까요? 먼저 해당 문서를 찾아서 **arnold**에 저장하세요."
   ]
  },
  {
   "cell_type": "code",
   "execution_count": null,
   "metadata": {},
   "outputs": [],
   "source": []
  },
  {
   "cell_type": "markdown",
   "metadata": {},
   "source": [
    "이제 Arnold와 가까운 인물들을 찾아 봅시다."
   ]
  },
  {
   "cell_type": "code",
   "execution_count": null,
   "metadata": {},
   "outputs": [],
   "source": []
  },
  {
   "cell_type": "markdown",
   "metadata": {},
   "source": [
    "## 생각해 볼 거리\n",
    "\n",
    "### 이 노트북에서는 왜 데이터를 split을 하지 않을까요?"
   ]
  },
  {
   "cell_type": "code",
   "execution_count": null,
   "metadata": {},
   "outputs": [],
   "source": []
  },
  {
   "cell_type": "markdown",
   "metadata": {},
   "source": [
    "# Quiz"
   ]
  },
  {
   "cell_type": "markdown",
   "metadata": {},
   "source": [
    "## Quiz 1 \n",
    "Elton John 문서에서 가장 많이 등장하는 단어들은 무엇인가요?\n",
    "\n",
    "- 'Elton John'의 문서를 찾아서 저장합니다.\n",
    "- 'word_count' 컬럼만으로 이루어진 SFrame을 만들고 stack 명령을 이용해서 'word'와 'count'로 분리하세요.\n",
    "- 해당 결과값을 'count'로 내림차순으로 소팅하세요."
   ]
  },
  {
   "cell_type": "code",
   "execution_count": null,
   "metadata": {},
   "outputs": [],
   "source": []
  },
  {
   "cell_type": "code",
   "execution_count": null,
   "metadata": {},
   "outputs": [],
   "source": []
  },
  {
   "cell_type": "code",
   "execution_count": null,
   "metadata": {},
   "outputs": [],
   "source": []
  },
  {
   "cell_type": "code",
   "execution_count": null,
   "metadata": {},
   "outputs": [],
   "source": []
  },
  {
   "cell_type": "code",
   "execution_count": null,
   "metadata": {},
   "outputs": [],
   "source": []
  },
  {
   "cell_type": "markdown",
   "metadata": {},
   "source": [
    "## Quiz 2\n",
    "Elton John 문서에서 가장 높은 TF-IDF 값을 가지는 단어들은 무엇인가요?\n",
    "\n",
    "- 'tfidf' 컬럼만으로 이루어진 SFrame을 만들고 stack 명령을 이용해서 'word'와 'tfidf'로 분리하세요.\n",
    "- 해당 결과값을 'tfidf'로 내림차순으로 소팅하세요."
   ]
  },
  {
   "cell_type": "code",
   "execution_count": null,
   "metadata": {},
   "outputs": [],
   "source": []
  },
  {
   "cell_type": "code",
   "execution_count": null,
   "metadata": {},
   "outputs": [],
   "source": []
  },
  {
   "cell_type": "markdown",
   "metadata": {},
   "source": [
    "## Quiz 3\n",
    "\n",
    "Eltion John과 Victoria Beckham의 문서 간에 TF-IDF로 표현된 거리는 어느 정도일까요?"
   ]
  },
  {
   "cell_type": "code",
   "execution_count": null,
   "metadata": {},
   "outputs": [],
   "source": []
  },
  {
   "cell_type": "code",
   "execution_count": null,
   "metadata": {},
   "outputs": [],
   "source": []
  },
  {
   "cell_type": "markdown",
   "metadata": {},
   "source": [
    "## Quiz 4\n",
    "\n",
    "Eltion John과 Paul McCartney의 문서 간에 TF-IDF로 표현된 거리는 어느 정도일까요?"
   ]
  },
  {
   "cell_type": "code",
   "execution_count": null,
   "metadata": {},
   "outputs": [],
   "source": []
  },
  {
   "cell_type": "code",
   "execution_count": null,
   "metadata": {},
   "outputs": [],
   "source": []
  },
  {
   "cell_type": "markdown",
   "metadata": {},
   "source": [
    "## Quiz 5\n",
    "\n",
    "Eltion John과 Paul McCartney가 가까울까요? 아니면 Victoria Beckham이 가까울까요?"
   ]
  },
  {
   "cell_type": "code",
   "execution_count": null,
   "metadata": {},
   "outputs": [],
   "source": []
  },
  {
   "cell_type": "markdown",
   "metadata": {},
   "source": [
    "## Quiz 6\n",
    "\n",
    "word count를 이용해서 거리를 측정했을 때 Elton John에 가장 가까운 이웃은 누구일까요?\n",
    "- word_count를 이용한 nearest_neighbors 모델을 만든다.\n",
    "- query 메소드를 이용해서 최근접 이웃을 구한다."
   ]
  },
  {
   "cell_type": "markdown",
   "metadata": {},
   "source": [
    "참고: 위에서 만든 knn_model은 tf-idf를 이용해서 만들었기 때문에 word count를 이용해서 새로운 모델을 만들어야 합니다.\n",
    "\n",
    "    graphlab.nearest_neighbors.create(학습데이터, features=사용하고자하는컬럼의리스트, label=각행의구분자역할을할컬럼명)\n",
    "    \n",
    "label은 인물의 이름을 사용합니다."
   ]
  },
  {
   "cell_type": "code",
   "execution_count": null,
   "metadata": {},
   "outputs": [],
   "source": []
  },
  {
   "cell_type": "code",
   "execution_count": null,
   "metadata": {},
   "outputs": [],
   "source": []
  },
  {
   "cell_type": "markdown",
   "metadata": {},
   "source": [
    "## Quiz 7 \n",
    "\n",
    "tf-idf를 이용해서 거리를 측정했을 때 Elton John과 가장 가까운 이웃은 누구인가요?\n",
    "- 위에서 사용한 knn_model을 이용하면 됩니다."
   ]
  },
  {
   "cell_type": "code",
   "execution_count": null,
   "metadata": {},
   "outputs": [],
   "source": []
  },
  {
   "cell_type": "markdown",
   "metadata": {},
   "source": [
    "## Quiz 8\n",
    "\n",
    "word count를 이용해서 거리를 측정했을 때 Victoria Beckham에 가장 가까운 이웃은 누구일까요?"
   ]
  },
  {
   "cell_type": "code",
   "execution_count": null,
   "metadata": {},
   "outputs": [],
   "source": []
  },
  {
   "cell_type": "markdown",
   "metadata": {},
   "source": [
    "## Quiz 9 \n",
    "\n",
    "tf-idf를 이용해서 거리를 측정했을 때 Victoria Beckham과 가장 가까운 이웃은 누구인가요?"
   ]
  },
  {
   "cell_type": "code",
   "execution_count": null,
   "metadata": {},
   "outputs": [],
   "source": []
  },
  {
   "cell_type": "code",
   "execution_count": null,
   "metadata": {},
   "outputs": [],
   "source": []
  }
 ],
 "metadata": {
  "kernelspec": {
   "display_name": "Python 2",
   "language": "python",
   "name": "python2"
  },
  "language_info": {
   "codemirror_mode": {
    "name": "ipython",
    "version": 2
   },
   "file_extension": ".py",
   "mimetype": "text/x-python",
   "name": "python",
   "nbconvert_exporter": "python",
   "pygments_lexer": "ipython2",
   "version": "2.7.14"
  }
 },
 "nbformat": 4,
 "nbformat_minor": 1
}
